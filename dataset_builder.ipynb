{
 "cells": [
  {
   "cell_type": "code",
   "execution_count": 1,
   "id": "8c2643ad-7870-40bf-b163-0f25f241ed39",
   "metadata": {},
   "outputs": [
    {
     "name": "stderr",
     "output_type": "stream",
     "text": [
      "/home/jpac/anaconda3/envs/softex_stephany/lib/python3.9/site-packages/tqdm/auto.py:21: TqdmWarning: IProgress not found. Please update jupyter and ipywidgets. See https://ipywidgets.readthedocs.io/en/stable/user_install.html\n",
      "  from .autonotebook import tqdm as notebook_tqdm\n"
     ]
    }
   ],
   "source": [
    "import pandas as pd\n",
    "import torch\n",
    "from transformers import AutoModel, AutoTokenizer"
   ]
  },
  {
   "cell_type": "code",
   "execution_count": 14,
   "id": "8628bdc7-b254-4f59-a684-3976e090dfdc",
   "metadata": {},
   "outputs": [],
   "source": [
    "file_path = './casos.csv'\n",
    "intermediate_file_path = './casos_with_embedding.csv'"
   ]
  },
  {
   "cell_type": "code",
   "execution_count": 3,
   "id": "9cdc8c04-0976-40b6-86bd-16a7357e09ff",
   "metadata": {},
   "outputs": [],
   "source": [
    "main_dataframe = pd.read_csv(file_path, sep=';', header=0, index_col=False)"
   ]
  },
  {
   "cell_type": "code",
   "execution_count": 4,
   "id": "736082a4-01a1-4279-842b-4d7443e1aacb",
   "metadata": {},
   "outputs": [],
   "source": [
    "work_dataframe = main_dataframe.copy()"
   ]
  },
  {
   "cell_type": "code",
   "execution_count": 5,
   "id": "2250587e-5988-4df7-8f66-dafc523c5aa3",
   "metadata": {},
   "outputs": [],
   "source": [
    "work_dataframe.drop_duplicates(subset='descricao', inplace=True)\n",
    "work_dataframe.dropna(axis=0, subset='descricao', inplace=True)"
   ]
  },
  {
   "cell_type": "code",
   "execution_count": 6,
   "id": "2c26f88f-1583-4f22-95f6-ae1a2743aeec",
   "metadata": {
    "scrolled": true
   },
   "outputs": [
    {
     "data": {
      "text/plain": [
       "1198"
      ]
     },
     "execution_count": 6,
     "metadata": {},
     "output_type": "execute_result"
    }
   ],
   "source": [
    "work_dataframe.shape[0]"
   ]
  },
  {
   "cell_type": "code",
   "execution_count": 7,
   "id": "d963a167-ade5-462c-b4f8-bc7c7d4a69b1",
   "metadata": {},
   "outputs": [],
   "source": [
    "model = AutoModel.from_pretrained('neuralmind/bert-base-portuguese-cased')\n",
    "tokenizer = AutoTokenizer.from_pretrained('neuralmind/bert-base-portuguese-cased', do_lower_case=False)"
   ]
  },
  {
   "cell_type": "code",
   "execution_count": 8,
   "id": "a97d7e04-a03b-4663-a4f1-e885d38aa01e",
   "metadata": {},
   "outputs": [],
   "source": [
    "embedding_inputs = list(work_dataframe['descricao'].values)"
   ]
  },
  {
   "cell_type": "code",
   "execution_count": 9,
   "id": "7378d3f6-891a-45d6-b3e8-c36c60c9cb90",
   "metadata": {},
   "outputs": [
    {
     "data": {
      "text/plain": [
       "2687"
      ]
     },
     "execution_count": 9,
     "metadata": {},
     "output_type": "execute_result"
    }
   ],
   "source": [
    "max(list(map(lambda x: len(x),embedding_inputs))) # Tamanho do maior texto"
   ]
  },
  {
   "cell_type": "code",
   "execution_count": 12,
   "id": "75103ca2-29a8-4c42-9d7d-a25ee8a2bf7b",
   "metadata": {
    "scrolled": true
   },
   "outputs": [
    {
     "name": "stdout",
     "output_type": "stream",
     "text": [
      "torch.Size([1198, 100, 768])\n"
     ]
    }
   ],
   "source": [
    "inputs = tokenizer(embedding_inputs, padding=\"max_length\", truncation=True, max_length = 100, return_tensors=\"pt\")\n",
    "simple_array = []\n",
    "embeddings = []\n",
    "with torch.no_grad():\n",
    "    outs = model(**inputs)    \n",
    "    print(outs.last_hidden_state.shape)    \n",
    "    for i in range(0, len(outs.last_hidden_state)):\n",
    "      encoded = outs.last_hidden_state[i, 1:-1]    \n",
    "      embedding = (torch.mean(encoded, 0))      \n",
    "      embeddings.append(embedding.tolist())\n",
    "    work_dataframe['embedding'] = embeddings\n",
    "      "
   ]
  },
  {
   "cell_type": "code",
   "execution_count": 13,
   "id": "16db658f-fa65-4f59-9ef9-54996edd699e",
   "metadata": {},
   "outputs": [
    {
     "data": {
      "text/plain": [
       "0       [-0.11463958024978638, 0.10435016453266144, 0....\n",
       "6       [-0.10816885530948639, -0.0386231355369091, 0....\n",
       "13      [0.14696739614009857, 0.0133186811581254, 0.62...\n",
       "14      [-0.14168746769428253, -0.001603385666385293, ...\n",
       "25      [-0.11508359760046005, -0.15865623950958252, 0...\n",
       "                              ...                        \n",
       "1308    [-0.13071759045124054, -0.23188351094722748, 0...\n",
       "1309    [-0.01808825321495533, -0.11963064968585968, 0...\n",
       "1310    [-0.038996048271656036, -0.30379369854927063, ...\n",
       "1312    [-0.20098061859607697, -0.25110238790512085, 0...\n",
       "1313    [-0.23962900042533875, -0.21648769080638885, 0...\n",
       "Name: embedding, Length: 1198, dtype: object"
      ]
     },
     "execution_count": 13,
     "metadata": {},
     "output_type": "execute_result"
    }
   ],
   "source": [
    "work_dataframe['embedding']"
   ]
  },
  {
   "cell_type": "code",
   "execution_count": 15,
   "id": "0281305f-3134-49d4-98fc-4b23345df25a",
   "metadata": {},
   "outputs": [],
   "source": [
    "work_dataframe.to_pickle(intermediate_file_path)"
   ]
  }
 ],
 "metadata": {
  "kernelspec": {
   "display_name": "Python 3 (ipykernel)",
   "language": "python",
   "name": "python3"
  },
  "language_info": {
   "codemirror_mode": {
    "name": "ipython",
    "version": 3
   },
   "file_extension": ".py",
   "mimetype": "text/x-python",
   "name": "python",
   "nbconvert_exporter": "python",
   "pygments_lexer": "ipython3",
   "version": "3.9.18"
  }
 },
 "nbformat": 4,
 "nbformat_minor": 5
}
